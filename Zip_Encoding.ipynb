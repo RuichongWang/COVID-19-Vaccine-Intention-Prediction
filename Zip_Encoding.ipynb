{
  "nbformat": 4,
  "nbformat_minor": 0,
  "metadata": {
    "colab": {
      "name": "Zip Encoding.ipynb",
      "provenance": [],
      "collapsed_sections": [],
      "authorship_tag": "ABX9TyPmS1xEIiXtogVlFa0JojZC"
    },
    "kernelspec": {
      "name": "python3",
      "display_name": "Python 3"
    }
  },
  "cells": [
    {
      "cell_type": "code",
      "metadata": {
        "id": "kCDCL-FjzlY2",
        "colab": {
          "base_uri": "https://localhost:8080/"
        },
        "outputId": "8ea6a9a6-1791-45e7-a64e-a70dd1ae85ac"
      },
      "source": [
        "# Load the Drive helper and mount\n",
        "from google.colab import drive\n",
        "import os\n",
        "\n",
        "# This will prompt for authorization.\n",
        "drive.mount('/content/drive') "
      ],
      "execution_count": 1,
      "outputs": [
        {
          "output_type": "stream",
          "name": "stdout",
          "text": [
            "Mounted at /content/drive\n"
          ]
        }
      ]
    },
    {
      "cell_type": "code",
      "metadata": {
        "colab": {
          "base_uri": "https://localhost:8080/"
        },
        "id": "-HLi7FiMZaDJ",
        "outputId": "b7a774ac-2823-4d35-965c-c42d135929b5"
      },
      "source": [
        "os.chdir('/content/drive/My Drive/USED/Humana')\n",
        "os.listdir()"
      ],
      "execution_count": 4,
      "outputs": [
        {
          "output_type": "execute_result",
          "data": {
            "text/plain": [
              "['Temp',\n",
              " 'Humana Share',\n",
              " 'Data',\n",
              " 'Humana EDA.ipynb',\n",
              " 'Preprocessing_v1.ipynb',\n",
              " 'Model',\n",
              " 'Preprocessing_v2.ipynb',\n",
              " 'Zip Encoding.ipynb',\n",
              " 'columns_type.csv',\n",
              " 'catboost_info',\n",
              " 'Fast_Check_Feature_Selection.ipynb',\n",
              " 'Further_Selection_With_CatBosst.ipynb',\n",
              " 'Pycaret_1.ipynb',\n",
              " 'logs.log',\n",
              " 'Modeling.ipynb',\n",
              " 'Catboost.ipynb',\n",
              " 'tab_cat_trails.csv',\n",
              " 'Tabnet.ipynb',\n",
              " 'tab_1.npy',\n",
              " 'subset_test_label_2.csv',\n",
              " 'subset_test_label_3.csv',\n",
              " 'subset_test_label_4.csv',\n",
              " 'subset_test_label_0.csv',\n",
              " 'subset_test_label_1.csv',\n",
              " 'pdp.pdf',\n",
              " 'ice.pdf',\n",
              " 'pdp_age.pdf',\n",
              " 'pdp_hum_region.pdf',\n",
              " 'pdp_atlas_foodinsec_13_15.pdf',\n",
              " 'ice_age.pdf',\n",
              " 'ice_hum_region.pdf',\n",
              " 'ice_atlas_foodinsec_13_15.pdf',\n",
              " 'pdp_race_cd_isnull.pdf',\n",
              " 'ice_race_cd_isnull.pdf',\n",
              " 'race_cd_null.pdf',\n",
              " 'fea_imp.csv',\n",
              " 'ice_est_age.pdf',\n",
              " 'ice_atlas_vlfoodsec_13_15.pdf',\n",
              " 'ice_cms_risk_adjustment_factor_a_amt.pdf',\n",
              " 'pdp_est_age.pdf',\n",
              " 'pdp_atlas_vlfoodsec_13_15.pdf',\n",
              " 'pdp_cms_risk_adjustment_factor_a_amt.pdf',\n",
              " 'Copy of model all.ipynb',\n",
              " 'Sub_1_org_feas.ipynb',\n",
              " 'model_2.ipynb',\n",
              " 'model all.ipynb',\n",
              " 'Copy of model_2.ipynb']"
            ]
          },
          "metadata": {},
          "execution_count": 4
        }
      ]
    },
    {
      "cell_type": "markdown",
      "metadata": {
        "id": "FCqQGgP9JJ6c"
      },
      "source": [
        "# stats encoding"
      ]
    },
    {
      "cell_type": "code",
      "metadata": {
        "id": "yqfihxs_ZcJL",
        "colab": {
          "base_uri": "https://localhost:8080/"
        },
        "outputId": "fe8a845a-f869-45a2-9203-3bda26362d1e"
      },
      "source": [
        "import pandas as pd \n",
        "df_zip_train=pd.read_csv('Data/2021_Competition_Training.csv',usecols=['zip_cd','covid_vaccination'])\n",
        "df_zip_train['covid_vaccination']=df_zip_train['covid_vaccination']!='no_vacc'\n",
        "df_zip_train['covid_vaccination']=df_zip_train['covid_vaccination'].astype(int)\n",
        "\n",
        "df_stat=df_zip_train.groupby('zip_cd',as_index=False).agg(['mean','std','skew'])\n",
        "\n",
        "df_stat.sum()"
      ],
      "execution_count": 5,
      "outputs": [
        {
          "output_type": "execute_result",
          "data": {
            "text/plain": [
              "covid_vaccination  mean    15204.270009\n",
              "                   std     22510.717406\n",
              "                   skew    88695.111660\n",
              "dtype: float64"
            ]
          },
          "metadata": {},
          "execution_count": 5
        }
      ]
    },
    {
      "cell_type": "code",
      "metadata": {
        "colab": {
          "base_uri": "https://localhost:8080/",
          "height": 444
        },
        "id": "cMKFVw9aHUst",
        "outputId": "8f6982ed-1c72-4e32-a361-c79532cb52a6"
      },
      "source": [
        "import gc\n",
        "gc.collect()\n",
        "\n",
        "df_zip_train=df_zip_train.merge(df_stat,on='zip_cd')\n",
        "\n",
        "df_zip_train.columns=['y','zip_cd','zip_enc_mean','zip_enc_std','zip_enc_skew']\n",
        "df_zip_train=df_zip_train[['zip_enc_mean','zip_enc_std','zip_enc_skew']]\n",
        "display(df_zip_train)\n",
        "\n",
        "df_zip_train.to_csv('Data/train_zip_enc.csv',index=False)"
      ],
      "execution_count": 6,
      "outputs": [
        {
          "output_type": "stream",
          "name": "stderr",
          "text": [
            "/usr/local/lib/python3.7/dist-packages/pandas/core/reshape/merge.py:643: UserWarning: merging between different levels can give an unintended result (1 levels on the left,2 on the right)\n",
            "  warnings.warn(msg, UserWarning)\n"
          ]
        },
        {
          "output_type": "display_data",
          "data": {
            "text/html": [
              "<div>\n",
              "<style scoped>\n",
              "    .dataframe tbody tr th:only-of-type {\n",
              "        vertical-align: middle;\n",
              "    }\n",
              "\n",
              "    .dataframe tbody tr th {\n",
              "        vertical-align: top;\n",
              "    }\n",
              "\n",
              "    .dataframe thead th {\n",
              "        text-align: right;\n",
              "    }\n",
              "</style>\n",
              "<table border=\"1\" class=\"dataframe\">\n",
              "  <thead>\n",
              "    <tr style=\"text-align: right;\">\n",
              "      <th></th>\n",
              "      <th>zip_enc_mean</th>\n",
              "      <th>zip_enc_std</th>\n",
              "      <th>zip_enc_skew</th>\n",
              "    </tr>\n",
              "  </thead>\n",
              "  <tbody>\n",
              "    <tr>\n",
              "      <th>0</th>\n",
              "      <td>0.4</td>\n",
              "      <td>0.547723</td>\n",
              "      <td>0.608581</td>\n",
              "    </tr>\n",
              "    <tr>\n",
              "      <th>1</th>\n",
              "      <td>0.4</td>\n",
              "      <td>0.547723</td>\n",
              "      <td>0.608581</td>\n",
              "    </tr>\n",
              "    <tr>\n",
              "      <th>2</th>\n",
              "      <td>0.4</td>\n",
              "      <td>0.547723</td>\n",
              "      <td>0.608581</td>\n",
              "    </tr>\n",
              "    <tr>\n",
              "      <th>3</th>\n",
              "      <td>0.4</td>\n",
              "      <td>0.547723</td>\n",
              "      <td>0.608581</td>\n",
              "    </tr>\n",
              "    <tr>\n",
              "      <th>4</th>\n",
              "      <td>0.4</td>\n",
              "      <td>0.547723</td>\n",
              "      <td>0.608581</td>\n",
              "    </tr>\n",
              "    <tr>\n",
              "      <th>...</th>\n",
              "      <td>...</td>\n",
              "      <td>...</td>\n",
              "      <td>...</td>\n",
              "    </tr>\n",
              "    <tr>\n",
              "      <th>974837</th>\n",
              "      <td>0.0</td>\n",
              "      <td>NaN</td>\n",
              "      <td>NaN</td>\n",
              "    </tr>\n",
              "    <tr>\n",
              "      <th>974838</th>\n",
              "      <td>0.0</td>\n",
              "      <td>NaN</td>\n",
              "      <td>NaN</td>\n",
              "    </tr>\n",
              "    <tr>\n",
              "      <th>974839</th>\n",
              "      <td>0.0</td>\n",
              "      <td>NaN</td>\n",
              "      <td>NaN</td>\n",
              "    </tr>\n",
              "    <tr>\n",
              "      <th>974840</th>\n",
              "      <td>0.0</td>\n",
              "      <td>NaN</td>\n",
              "      <td>NaN</td>\n",
              "    </tr>\n",
              "    <tr>\n",
              "      <th>974841</th>\n",
              "      <td>0.0</td>\n",
              "      <td>NaN</td>\n",
              "      <td>NaN</td>\n",
              "    </tr>\n",
              "  </tbody>\n",
              "</table>\n",
              "<p>974842 rows × 3 columns</p>\n",
              "</div>"
            ],
            "text/plain": [
              "        zip_enc_mean  zip_enc_std  zip_enc_skew\n",
              "0                0.4     0.547723      0.608581\n",
              "1                0.4     0.547723      0.608581\n",
              "2                0.4     0.547723      0.608581\n",
              "3                0.4     0.547723      0.608581\n",
              "4                0.4     0.547723      0.608581\n",
              "...              ...          ...           ...\n",
              "974837           0.0          NaN           NaN\n",
              "974838           0.0          NaN           NaN\n",
              "974839           0.0          NaN           NaN\n",
              "974840           0.0          NaN           NaN\n",
              "974841           0.0          NaN           NaN\n",
              "\n",
              "[974842 rows x 3 columns]"
            ]
          },
          "metadata": {}
        }
      ]
    },
    {
      "cell_type": "code",
      "metadata": {
        "colab": {
          "base_uri": "https://localhost:8080/",
          "height": 444
        },
        "id": "49GV0DVYHm6k",
        "outputId": "338fe271-3127-4152-9d72-502fd4a5406a"
      },
      "source": [
        "import pandas as pd \n",
        "df_zip_test=pd.read_csv('Data/2021_Competition_Holdout.csv',usecols=['zip_cd'])\n",
        "\n",
        "import gc\n",
        "gc.collect()\n",
        "\n",
        "df_zip_test=df_zip_test.merge(df_stat,on='zip_cd',how='left')\n",
        "\n",
        "df_zip_test.columns=['zip_cd','zip_enc_mean','zip_enc_std','zip_enc_skew']\n",
        "df_zip_test=df_zip_test[['zip_enc_mean','zip_enc_std','zip_enc_skew']]\n",
        "display(df_zip_test)\n",
        "\n",
        "df_zip_test.to_csv('Data/test_zip_enc.csv',index=False)"
      ],
      "execution_count": 7,
      "outputs": [
        {
          "output_type": "stream",
          "name": "stderr",
          "text": [
            "/usr/local/lib/python3.7/dist-packages/pandas/core/reshape/merge.py:643: UserWarning: merging between different levels can give an unintended result (1 levels on the left,2 on the right)\n",
            "  warnings.warn(msg, UserWarning)\n"
          ]
        },
        {
          "output_type": "display_data",
          "data": {
            "text/html": [
              "<div>\n",
              "<style scoped>\n",
              "    .dataframe tbody tr th:only-of-type {\n",
              "        vertical-align: middle;\n",
              "    }\n",
              "\n",
              "    .dataframe tbody tr th {\n",
              "        vertical-align: top;\n",
              "    }\n",
              "\n",
              "    .dataframe thead th {\n",
              "        text-align: right;\n",
              "    }\n",
              "</style>\n",
              "<table border=\"1\" class=\"dataframe\">\n",
              "  <thead>\n",
              "    <tr style=\"text-align: right;\">\n",
              "      <th></th>\n",
              "      <th>zip_enc_mean</th>\n",
              "      <th>zip_enc_std</th>\n",
              "      <th>zip_enc_skew</th>\n",
              "    </tr>\n",
              "  </thead>\n",
              "  <tbody>\n",
              "    <tr>\n",
              "      <th>0</th>\n",
              "      <td>0.161017</td>\n",
              "      <td>0.369114</td>\n",
              "      <td>1.868407</td>\n",
              "    </tr>\n",
              "    <tr>\n",
              "      <th>1</th>\n",
              "      <td>0.162162</td>\n",
              "      <td>0.373684</td>\n",
              "      <td>1.911471</td>\n",
              "    </tr>\n",
              "    <tr>\n",
              "      <th>2</th>\n",
              "      <td>0.187500</td>\n",
              "      <td>0.396558</td>\n",
              "      <td>1.681134</td>\n",
              "    </tr>\n",
              "    <tr>\n",
              "      <th>3</th>\n",
              "      <td>0.000000</td>\n",
              "      <td>0.000000</td>\n",
              "      <td>NaN</td>\n",
              "    </tr>\n",
              "    <tr>\n",
              "      <th>4</th>\n",
              "      <td>0.250000</td>\n",
              "      <td>0.440959</td>\n",
              "      <td>1.221116</td>\n",
              "    </tr>\n",
              "    <tr>\n",
              "      <th>...</th>\n",
              "      <td>...</td>\n",
              "      <td>...</td>\n",
              "      <td>...</td>\n",
              "    </tr>\n",
              "    <tr>\n",
              "      <th>525153</th>\n",
              "      <td>0.133333</td>\n",
              "      <td>0.341839</td>\n",
              "      <td>2.194015</td>\n",
              "    </tr>\n",
              "    <tr>\n",
              "      <th>525154</th>\n",
              "      <td>0.244444</td>\n",
              "      <td>0.434613</td>\n",
              "      <td>1.230711</td>\n",
              "    </tr>\n",
              "    <tr>\n",
              "      <th>525155</th>\n",
              "      <td>0.333333</td>\n",
              "      <td>0.516398</td>\n",
              "      <td>0.968246</td>\n",
              "    </tr>\n",
              "    <tr>\n",
              "      <th>525156</th>\n",
              "      <td>0.000000</td>\n",
              "      <td>0.000000</td>\n",
              "      <td>0.000000</td>\n",
              "    </tr>\n",
              "    <tr>\n",
              "      <th>525157</th>\n",
              "      <td>0.198473</td>\n",
              "      <td>0.400381</td>\n",
              "      <td>1.529549</td>\n",
              "    </tr>\n",
              "  </tbody>\n",
              "</table>\n",
              "<p>525158 rows × 3 columns</p>\n",
              "</div>"
            ],
            "text/plain": [
              "        zip_enc_mean  zip_enc_std  zip_enc_skew\n",
              "0           0.161017     0.369114      1.868407\n",
              "1           0.162162     0.373684      1.911471\n",
              "2           0.187500     0.396558      1.681134\n",
              "3           0.000000     0.000000           NaN\n",
              "4           0.250000     0.440959      1.221116\n",
              "...              ...          ...           ...\n",
              "525153      0.133333     0.341839      2.194015\n",
              "525154      0.244444     0.434613      1.230711\n",
              "525155      0.333333     0.516398      0.968246\n",
              "525156      0.000000     0.000000      0.000000\n",
              "525157      0.198473     0.400381      1.529549\n",
              "\n",
              "[525158 rows x 3 columns]"
            ]
          },
          "metadata": {}
        }
      ]
    },
    {
      "cell_type": "markdown",
      "metadata": {
        "id": "UkV_n5afJM-7"
      },
      "source": [
        "# clustering"
      ]
    },
    {
      "cell_type": "code",
      "metadata": {
        "colab": {
          "base_uri": "https://localhost:8080/"
        },
        "id": "5ZbGX5e4JEQa",
        "outputId": "c721693f-e4c1-41d3-d023-f8ef323a7202"
      },
      "source": [
        "import pandas as pd \n",
        "df_zip_train=pd.read_csv('Data/2021_Competition_Training.csv')\n"
      ],
      "execution_count": 8,
      "outputs": [
        {
          "output_type": "stream",
          "name": "stderr",
          "text": [
            "/usr/local/lib/python3.7/dist-packages/IPython/core/interactiveshell.py:2718: DtypeWarning: Columns (2,8,9,11,13,16,20,26,28,29,31,33,51,55,58,62,64,66,68,75,85,102,124,127,131,132,135,160,174,180,187,192,202,209,210,211,215,220,230,234,240,243,247,251,255,261,285,293,297,300,305,306,309,323,334,344,345,352,353,355,359) have mixed types.Specify dtype option on import or set low_memory=False.\n",
            "  interactivity=interactivity, compiler=compiler, result=result)\n"
          ]
        }
      ]
    },
    {
      "cell_type": "code",
      "metadata": {
        "id": "HJticG0SJsiP"
      },
      "source": [
        "import numpy as np \n",
        "cluster_cols=[]\n",
        "for col in df_zip_train.columns:\n",
        "    if df_zip_train[col].dtype!='O':\n",
        "        cluster_cols.append(col)\n",
        "        avg=df_zip_train[col].mean()\n",
        "        df_zip_train[col]=df_zip_train[col].fillna(avg)"
      ],
      "execution_count": 9,
      "outputs": []
    },
    {
      "cell_type": "code",
      "metadata": {
        "id": "IvKtpkucKFjZ"
      },
      "source": [
        "import gc \n",
        "from sklearn.cluster import MiniBatchKMeans\n",
        "\n",
        "gc.collect()\n",
        "\n",
        "kmeans = MiniBatchKMeans(n_clusters=50,\n",
        "                         random_state=0,\n",
        "                         batch_size=32,\n",
        "                         max_iter=10).fit(df_zip_train[cluster_cols])"
      ],
      "execution_count": 10,
      "outputs": []
    },
    {
      "cell_type": "code",
      "metadata": {
        "colab": {
          "base_uri": "https://localhost:8080/",
          "height": 411
        },
        "id": "dttSnihAOxVe",
        "outputId": "149f038a-5ef2-4c9e-dfcb-dc5bea014ced"
      },
      "source": [
        "df_zip_train['cluster']=kmeans.labels_\n",
        "df_zip_train=df_zip_train[['zip_cd','cluster']]\n",
        "df_zip_train"
      ],
      "execution_count": 11,
      "outputs": [
        {
          "output_type": "execute_result",
          "data": {
            "text/html": [
              "<div>\n",
              "<style scoped>\n",
              "    .dataframe tbody tr th:only-of-type {\n",
              "        vertical-align: middle;\n",
              "    }\n",
              "\n",
              "    .dataframe tbody tr th {\n",
              "        vertical-align: top;\n",
              "    }\n",
              "\n",
              "    .dataframe thead th {\n",
              "        text-align: right;\n",
              "    }\n",
              "</style>\n",
              "<table border=\"1\" class=\"dataframe\">\n",
              "  <thead>\n",
              "    <tr style=\"text-align: right;\">\n",
              "      <th></th>\n",
              "      <th>zip_cd</th>\n",
              "      <th>cluster</th>\n",
              "    </tr>\n",
              "  </thead>\n",
              "  <tbody>\n",
              "    <tr>\n",
              "      <th>0</th>\n",
              "      <td>52161</td>\n",
              "      <td>16</td>\n",
              "    </tr>\n",
              "    <tr>\n",
              "      <th>1</th>\n",
              "      <td>55415</td>\n",
              "      <td>25</td>\n",
              "    </tr>\n",
              "    <tr>\n",
              "      <th>2</th>\n",
              "      <td>29450</td>\n",
              "      <td>42</td>\n",
              "    </tr>\n",
              "    <tr>\n",
              "      <th>3</th>\n",
              "      <td>30108</td>\n",
              "      <td>34</td>\n",
              "    </tr>\n",
              "    <tr>\n",
              "      <th>4</th>\n",
              "      <td>93569</td>\n",
              "      <td>21</td>\n",
              "    </tr>\n",
              "    <tr>\n",
              "      <th>...</th>\n",
              "      <td>...</td>\n",
              "      <td>...</td>\n",
              "    </tr>\n",
              "    <tr>\n",
              "      <th>974837</th>\n",
              "      <td>66182</td>\n",
              "      <td>23</td>\n",
              "    </tr>\n",
              "    <tr>\n",
              "      <th>974838</th>\n",
              "      <td>43401</td>\n",
              "      <td>45</td>\n",
              "    </tr>\n",
              "    <tr>\n",
              "      <th>974839</th>\n",
              "      <td>32122</td>\n",
              "      <td>33</td>\n",
              "    </tr>\n",
              "    <tr>\n",
              "      <th>974840</th>\n",
              "      <td>43737</td>\n",
              "      <td>45</td>\n",
              "    </tr>\n",
              "    <tr>\n",
              "      <th>974841</th>\n",
              "      <td>44278</td>\n",
              "      <td>30</td>\n",
              "    </tr>\n",
              "  </tbody>\n",
              "</table>\n",
              "<p>974842 rows × 2 columns</p>\n",
              "</div>"
            ],
            "text/plain": [
              "        zip_cd  cluster\n",
              "0        52161       16\n",
              "1        55415       25\n",
              "2        29450       42\n",
              "3        30108       34\n",
              "4        93569       21\n",
              "...        ...      ...\n",
              "974837   66182       23\n",
              "974838   43401       45\n",
              "974839   32122       33\n",
              "974840   43737       45\n",
              "974841   44278       30\n",
              "\n",
              "[974842 rows x 2 columns]"
            ]
          },
          "metadata": {},
          "execution_count": 11
        }
      ]
    },
    {
      "cell_type": "code",
      "metadata": {
        "id": "fhbQIb2_PEll",
        "colab": {
          "base_uri": "https://localhost:8080/"
        },
        "outputId": "dab246e7-9f17-4698-e4fb-330a71548304"
      },
      "source": [
        "df_zip_train['count']=1\n",
        "df_pivot=df_zip_train.groupby(['zip_cd','cluster'],as_index=False).count()"
      ],
      "execution_count": 12,
      "outputs": [
        {
          "output_type": "stream",
          "name": "stderr",
          "text": [
            "/usr/local/lib/python3.7/dist-packages/ipykernel_launcher.py:1: SettingWithCopyWarning: \n",
            "A value is trying to be set on a copy of a slice from a DataFrame.\n",
            "Try using .loc[row_indexer,col_indexer] = value instead\n",
            "\n",
            "See the caveats in the documentation: https://pandas.pydata.org/pandas-docs/stable/user_guide/indexing.html#returning-a-view-versus-a-copy\n",
            "  \"\"\"Entry point for launching an IPython kernel.\n"
          ]
        }
      ]
    },
    {
      "cell_type": "code",
      "metadata": {
        "id": "P21gZ_lkP-vW"
      },
      "source": [
        "df_pivot=df_pivot.pivot(index='zip_cd', columns='cluster', values='count')\n",
        "cols_sum=df_pivot.sum(axis=1)\n",
        "for col in df_pivot.columns:\n",
        "    df_pivot[col]/=cols_sum"
      ],
      "execution_count": 13,
      "outputs": []
    },
    {
      "cell_type": "code",
      "metadata": {
        "id": "mUzmrk4xSA7J"
      },
      "source": [
        "df_zip_train.merge(df_pivot.reset_index(),on='zip_cd')[list(range(50))].to_csv('Data/train_zip_enc_cluster.csv',index=False)"
      ],
      "execution_count": 14,
      "outputs": []
    },
    {
      "cell_type": "code",
      "metadata": {
        "id": "vSeonMzzTfVn"
      },
      "source": [
        "df_zip_test=pd.read_csv('Data/2021_Competition_Holdout.csv',usecols=['zip_cd'])\n",
        "df_zip_test.merge(df_pivot.reset_index(),on='zip_cd',how='left')[list(range(50))].to_csv('Data/test_zip_enc_cluster.csv',index=False)"
      ],
      "execution_count": 15,
      "outputs": []
    },
    {
      "cell_type": "code",
      "metadata": {
        "id": "lVO2o-wVUD2Z"
      },
      "source": [
        ""
      ],
      "execution_count": 15,
      "outputs": []
    }
  ]
}